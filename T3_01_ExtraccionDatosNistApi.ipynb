{
 "cells": [
  {
   "cell_type": "markdown",
   "metadata": {},
   "source": [
    "# 01- Extracción de vulnerabilidades desde la API del NIST\n",
    "Este notebook consulta la API pública del NIST para obtener vulnerabilidades (CVEs) que contengan una palabra clave específica (como 'windows') y que hayan sido modificadas en un año determinado. Luego exporta los datos filtrados a un archivo CSV para análisis posterior."
   ]
  },
  {
   "cell_type": "markdown",
   "metadata": {},
   "source": [
    "# Instalar dependencias necesarias en el terminal del DevContainer"
   ]
  },
  {
   "cell_type": "code",
   "execution_count": 4,
   "metadata": {},
   "outputs": [
    {
     "name": "stdout",
     "output_type": "stream",
     "text": [
      "Requirement already satisfied: requests in /opt/conda/lib/python3.12/site-packages (2.32.3)\n",
      "Requirement already satisfied: pandas in /opt/conda/lib/python3.12/site-packages (2.2.2)\n",
      "Requirement already satisfied: matplotlib in /opt/conda/lib/python3.12/site-packages (3.10.0)\n",
      "Requirement already satisfied: seaborn in /opt/conda/lib/python3.12/site-packages (0.13.2)\n",
      "Requirement already satisfied: psycopg2-binary in /opt/conda/lib/python3.12/site-packages (2.9.10)\n",
      "Requirement already satisfied: python-dotenv in /opt/conda/lib/python3.12/site-packages (0.21.0)\n",
      "Requirement already satisfied: charset-normalizer<4,>=2 in /opt/conda/lib/python3.12/site-packages (from requests) (3.3.2)\n",
      "Requirement already satisfied: idna<4,>=2.5 in /opt/conda/lib/python3.12/site-packages (from requests) (3.7)\n",
      "Requirement already satisfied: urllib3<3,>=1.21.1 in /opt/conda/lib/python3.12/site-packages (from requests) (2.2.3)\n",
      "Requirement already satisfied: certifi>=2017.4.17 in /opt/conda/lib/python3.12/site-packages (from requests) (2025.1.31)\n",
      "Requirement already satisfied: numpy>=1.26.0 in /opt/conda/lib/python3.12/site-packages (from pandas) (1.26.4)\n",
      "Requirement already satisfied: python-dateutil>=2.8.2 in /opt/conda/lib/python3.12/site-packages (from pandas) (2.9.0.post0)\n",
      "Requirement already satisfied: pytz>=2020.1 in /opt/conda/lib/python3.12/site-packages (from pandas) (2024.1)\n",
      "Requirement already satisfied: tzdata>=2022.7 in /opt/conda/lib/python3.12/site-packages (from pandas) (2023.3)\n",
      "Requirement already satisfied: contourpy>=1.0.1 in /opt/conda/lib/python3.12/site-packages (from matplotlib) (1.2.0)\n",
      "Requirement already satisfied: cycler>=0.10 in /opt/conda/lib/python3.12/site-packages (from matplotlib) (0.11.0)\n",
      "Requirement already satisfied: fonttools>=4.22.0 in /opt/conda/lib/python3.12/site-packages (from matplotlib) (4.51.0)\n",
      "Requirement already satisfied: kiwisolver>=1.3.1 in /opt/conda/lib/python3.12/site-packages (from matplotlib) (1.4.4)\n",
      "Requirement already satisfied: packaging>=20.0 in /opt/conda/lib/python3.12/site-packages (from matplotlib) (24.1)\n",
      "Requirement already satisfied: pillow>=8 in /opt/conda/lib/python3.12/site-packages (from matplotlib) (10.4.0)\n",
      "Requirement already satisfied: pyparsing>=2.3.1 in /opt/conda/lib/python3.12/site-packages (from matplotlib) (3.1.2)\n",
      "Requirement already satisfied: six>=1.5 in /opt/conda/lib/python3.12/site-packages (from python-dateutil>=2.8.2->pandas) (1.16.0)\n",
      "Note: you may need to restart the kernel to use updated packages.\n"
     ]
    }
   ],
   "source": [
    "pip install requests pandas matplotlib seaborn psycopg2-binary python-dotenv"
   ]
  },
  {
   "cell_type": "markdown",
   "metadata": {},
   "source": [
    "## Importacion de librerias necesarias y api key de NIST para no tener los bloqueos"
   ]
  },
  {
   "cell_type": "code",
   "execution_count": 5,
   "metadata": {},
   "outputs": [],
   "source": [
    "import requests\n",
    "from datetime import datetime\n",
    "import pandas as pd\n",
    "from dotenv import load_dotenv\n",
    "import os\n",
    "\n",
    "# Cargar variables desde .env\n",
    "load_dotenv()\n",
    "API_KEY = os.getenv(\"NIST_API_KEY\")\n",
    "\n",
    "# Definir headers para autorización y agente\n",
    "headers = {\n",
    "    \"User-Agent\": \"Mozilla/5.0 (compatible; MyScript/1.0)\",\n",
    "    \"apiKey\": API_KEY\n",
    "}\n"
   ]
  },
  {
   "cell_type": "code",
   "execution_count": 6,
   "metadata": {},
   "outputs": [
    {
     "ename": "TypeError",
     "evalue": "'NoneType' object is not subscriptable",
     "output_type": "error",
     "traceback": [
      "\u001b[0;31m---------------------------------------------------------------------------\u001b[0m",
      "\u001b[0;31mTypeError\u001b[0m                                 Traceback (most recent call last)",
      "Cell \u001b[0;32mIn[6], line 1\u001b[0m\n\u001b[0;32m----> 1\u001b[0m \u001b[38;5;28mprint\u001b[39m(\u001b[38;5;124m\"\u001b[39m\u001b[38;5;124m API Key cargada correctamente:\u001b[39m\u001b[38;5;124m\"\u001b[39m, API_KEY[:\u001b[38;5;241m6\u001b[39m], \u001b[38;5;124m\"\u001b[39m\u001b[38;5;124m...\u001b[39m\u001b[38;5;124m\"\u001b[39m)\n\u001b[1;32m      2\u001b[0m \u001b[38;5;66;03m# Definir headers para autorización y agente\u001b[39;00m\n\u001b[1;32m      3\u001b[0m headers \u001b[38;5;241m=\u001b[39m {\n\u001b[1;32m      4\u001b[0m     \u001b[38;5;124m\"\u001b[39m\u001b[38;5;124mUser-Agent\u001b[39m\u001b[38;5;124m\"\u001b[39m: \u001b[38;5;124m\"\u001b[39m\u001b[38;5;124mMozilla/5.0 (compatible; MyScript/1.0)\u001b[39m\u001b[38;5;124m\"\u001b[39m,\n\u001b[1;32m      5\u001b[0m     \u001b[38;5;124m\"\u001b[39m\u001b[38;5;124mapiKey\u001b[39m\u001b[38;5;124m\"\u001b[39m: API_KEY\n\u001b[1;32m      6\u001b[0m }\n",
      "\u001b[0;31mTypeError\u001b[0m: 'NoneType' object is not subscriptable"
     ]
    }
   ],
   "source": [
    "print(\" API Key cargada correctamente:\", API_KEY[:6], \"...\")\n",
    "# Definir headers para autorización y agente\n",
    "headers = {\n",
    "    \"User-Agent\": \"Mozilla/5.0 (compatible; MyScript/1.0)\",\n",
    "    \"apiKey\": API_KEY\n",
    "}"
   ]
  },
  {
   "cell_type": "markdown",
   "metadata": {},
   "source": [
    "## Variables modificables para otro tipo de consultas, podemos cambiar por lo que deseemos consultar"
   ]
  },
  {
   "cell_type": "code",
   "execution_count": 7,
   "metadata": {},
   "outputs": [],
   "source": [
    "PALABRA_CLAVE = \"windows\"\n",
    "ANIO_OBJETIVO = 2024\n",
    "MAX_VULNS = 6000\n",
    "ARCHIVO_SALIDA = \"vulnerabilidades_2024.csv\""
   ]
  },
  {
   "cell_type": "markdown",
   "metadata": {},
   "source": [
    "Endpoint de la API del NIST"
   ]
  },
  {
   "cell_type": "code",
   "execution_count": 8,
   "metadata": {},
   "outputs": [],
   "source": [
    "url = \"https://services.nvd.nist.gov/rest/json/cves/2.0\"\n",
    "resultados_filtrados = []\n",
    "start_index = 0\n",
    "page_size = 2000"
   ]
  },
  {
   "cell_type": "markdown",
   "metadata": {},
   "source": [
    "Paginación de resultados para obtener múltiples páginas"
   ]
  },
  {
   "cell_type": "code",
   "execution_count": 9,
   "metadata": {},
   "outputs": [
    {
     "name": "stdout",
     "output_type": "stream",
     "text": [
      " Error: 403\n",
      "<html><body><h1>403 Forbidden</h1>\n",
      "Request forbidden by administrative rules.\n",
      "</body></html>\n",
      "\n"
     ]
    }
   ],
   "source": [
    "while len(resultados_filtrados) < MAX_VULNS:\n",
    "    params = {\n",
    "        \"resultsPerPage\": page_size,\n",
    "        \"startIndex\": start_index\n",
    "    }\n",
    "\n",
    "    #  AQUÍ incluimos los headers con la API key\n",
    "    response = requests.get(url, params=params, headers=headers)\n",
    "\n",
    "    if response.status_code != 200:\n",
    "        print(f\" Error: {response.status_code}\")\n",
    "        print(response.text)\n",
    "        break\n",
    "\n",
    "    data = response.json()\n",
    "    cves = data.get(\"vulnerabilities\", [])\n",
    "    if not cves:\n",
    "        break\n",
    "\n",
    "    for item in cves:\n",
    "        try:\n",
    "            cve = item[\"cve\"]\n",
    "            description = cve[\"descriptions\"][0][\"value\"].lower()\n",
    "            mod_date = cve[\"lastModified\"]\n",
    "            pub_date = cve[\"published\"]\n",
    "            source = cve.get(\"sourceIdentifier\", \"\")\n",
    "            metrics = cve.get(\"metrics\", {})\n",
    "\n",
    "            # Convertir fecha de modificación a año\n",
    "            try:\n",
    "                year = datetime.strptime(mod_date, \"%Y-%m-%dT%H:%M:%S.%f\").year\n",
    "            except ValueError:\n",
    "                year = datetime.strptime(mod_date, \"%Y-%m-%dT%H:%M:%S\").year\n",
    "\n",
    "            if PALABRA_CLAVE.lower() in description and year == ANIO_OBJETIVO:\n",
    "                severity = \"\"\n",
    "                score = \"\"\n",
    "                vector = \"\"\n",
    "                exploit_score = \"\"\n",
    "                impact_score = \"\"\n",
    "\n",
    "                for version in [\"cvssMetricV31\", \"cvssMetricV30\", \"cvssMetricV2\"]:\n",
    "                    if version in metrics:\n",
    "                        m = metrics[version][0]\n",
    "                        cvss = m.get(\"cvssData\", {})\n",
    "                        severity = m.get(\"baseSeverity\", \"\")\n",
    "                        score = cvss.get(\"baseScore\", \"\")\n",
    "                        vector = cvss.get(\"vectorString\", \"\")\n",
    "                        exploit_score = m.get(\"exploitabilityScore\", \"\")\n",
    "                        impact_score = m.get(\"impactScore\", \"\")\n",
    "                        break\n",
    "\n",
    "                resultados_filtrados.append({\n",
    "                    \"cve_id\": cve[\"id\"],\n",
    "                    \"published\": pub_date,\n",
    "                    \"last_modified\": mod_date,\n",
    "                    \"source_identifier\": source,\n",
    "                    \"description\": description,\n",
    "                    \"severity\": severity,\n",
    "                    \"cvss_score\": score,\n",
    "                    \"vector\": vector,\n",
    "                    \"exploitability_score\": exploit_score,\n",
    "                    \"impact_score\": impact_score\n",
    "                })\n",
    "\n",
    "        except Exception as e:\n",
    "            print(f\" Error procesando una entrada: {e}\")\n",
    "\n",
    "    start_index += page_size\n"
   ]
  },
  {
   "cell_type": "markdown",
   "metadata": {},
   "source": [
    "## Importando los datos para la prepararcion de analizis"
   ]
  },
  {
   "cell_type": "code",
   "execution_count": 10,
   "metadata": {},
   "outputs": [
    {
     "name": "stdout",
     "output_type": "stream",
     "text": [
      " No se encontraron vulnerabilidades para exportar.\n"
     ]
    }
   ],
   "source": [
    "# Exportar a CSV\n",
    "if resultados_filtrados:\n",
    "    df = pd.DataFrame(resultados_filtrados)\n",
    "    df.to_csv(ARCHIVO_SALIDA, index=False)\n",
    "    print(f\" Se guardaron {len(df)} vulnerabilidades en '{ARCHIVO_SALIDA}'.\")\n",
    "else:\n",
    "    print(\" No se encontraron vulnerabilidades para exportar.\")"
   ]
  },
  {
   "cell_type": "markdown",
   "metadata": {},
   "source": [
    "# Vamos al 02_preprocesamiento_y_visualizaciones.ipynb para el tratamiento de datos"
   ]
  }
 ],
 "metadata": {
  "kernelspec": {
   "display_name": "base",
   "language": "python",
   "name": "python3"
  },
  "language_info": {
   "codemirror_mode": {
    "name": "ipython",
    "version": 3
   },
   "file_extension": ".py",
   "mimetype": "text/x-python",
   "name": "python",
   "nbconvert_exporter": "python",
   "pygments_lexer": "ipython3",
   "version": "3.12.7"
  }
 },
 "nbformat": 4,
 "nbformat_minor": 2
}
