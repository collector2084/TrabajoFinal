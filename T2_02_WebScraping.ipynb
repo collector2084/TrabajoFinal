{
 "cells": [
  {
   "cell_type": "markdown",
   "id": "e74cee45-59fe-461f-849d-43b4d613956e",
   "metadata": {},
   "source": [
    "**Web Scraping con Beautiful Soup**  \n",
    "Íconos usados en este cuaderno\n",
    "\n",
    "🔔 **Pregunta**: Una pregunta rápida para ayudarte a entender lo que está pasando.  \n",
    "🥊 **Desafío**: Ejercicio interactivo. ¡Trabajaremos en ellos durante el taller!  \n",
    "⚠️ **Advertencia**: Aviso sobre aspectos complicados o errores comunes.  \n",
    "💡 **Consejo**: Cómo hacer algo de manera más eficiente o efectiva.  \n",
    "🎬 **Demostración**: Presentando algo más avanzado, para que veas para qué se puede usar Python.\n",
    "\n",
    "### **Objetivos de aprendizaje**\n",
    "\n",
    "1. **Reflexión**: ¿Hacer scraping o no hacerlo?\n",
    "2. **Extracción y análisis de HTML**\n",
    "3. **Scraping de la Asamblea General de Illinois**\n"
   ]
  },
  {
   "cell_type": "markdown",
   "id": "aebb902f-d31f-482b-a8ce-282272e3cd89",
   "metadata": {
    "jp-MarkdownHeadingCollapsed": true
   },
   "source": [
    "### **Hacer Scraping o No Hacer Scraping**\n",
    "\n",
    "Cuando queremos acceder a datos desde la web, primero debemos verificar si el sitio web de nuestro interés ofrece una API web. Plataformas como Twitter, Reddit y el New York Times ofrecen APIs. Si quieres aprender a usarlas, consulta el taller de APIs web en Python de D-Lab.\n",
    "\n",
    "Sin embargo, a veces no existe una API web disponible. En estos casos, podemos recurrir al **web scraping**, donde extraemos el HTML subyacente de una página web para obtener directamente la información que necesitamos. Existen varios paquetes en Python que nos ayudan a realizar estas tareas. Nos enfocaremos en dos paquetes: **Requests** y **Beautiful Soup**.\n",
    "\n",
    "Nuestro caso de estudio será el scraping de información sobre los **senadores estatales de Illinois**, así como la lista de proyectos de ley que ha patrocinado cada senador. Antes de comenzar, explora estos sitios web para familiarizarte con su estructura.\n",
    "\n"
   ]
  },
  {
   "cell_type": "markdown",
   "id": "b6d5247f-cd06-4174-846f-5133be66fa57",
   "metadata": {},
   "source": [
    "### **Instalación**\n",
    "\n",
    "Utilizaremos dos paquetes principales: **Requests** y **Beautiful Soup**. Si aún no los tienes instalados, puedes hacerlo con el siguiente comando:\n"
   ]
  },
  {
   "cell_type": "code",
   "execution_count": 1,
   "id": "67d5a2d4-78d5-4883-bad8-f4bfedb1b4b3",
   "metadata": {
    "trusted": false
   },
   "outputs": [
    {
     "name": "stdout",
     "output_type": "stream",
     "text": [
      "Requirement already satisfied: requests in /opt/conda/lib/python3.12/site-packages (2.32.3)\n",
      "Requirement already satisfied: charset-normalizer<4,>=2 in /opt/conda/lib/python3.12/site-packages (from requests) (3.3.2)\n",
      "Requirement already satisfied: idna<4,>=2.5 in /opt/conda/lib/python3.12/site-packages (from requests) (3.7)\n",
      "Requirement already satisfied: urllib3<3,>=1.21.1 in /opt/conda/lib/python3.12/site-packages (from requests) (2.2.3)\n",
      "Requirement already satisfied: certifi>=2017.4.17 in /opt/conda/lib/python3.12/site-packages (from requests) (2025.1.31)\n",
      "Note: you may need to restart the kernel to use updated packages.\n"
     ]
    }
   ],
   "source": [
    "%pip install requests"
   ]
  },
  {
   "cell_type": "code",
   "execution_count": 2,
   "id": "28a67b58-3a9b-4f5e-911e-b90600a65cf8",
   "metadata": {
    "trusted": false
   },
   "outputs": [
    {
     "name": "stdout",
     "output_type": "stream",
     "text": [
      "Requirement already satisfied: beautifulsoup4 in /opt/conda/lib/python3.12/site-packages (4.12.3)\n",
      "Requirement already satisfied: soupsieve>1.2 in /opt/conda/lib/python3.12/site-packages (from beautifulsoup4) (2.5)\n",
      "Note: you may need to restart the kernel to use updated packages.\n"
     ]
    }
   ],
   "source": [
    "%pip install beautifulsoup4"
   ]
  },
  {
   "cell_type": "markdown",
   "id": "cfa91c52-677f-4afd-8dc6-d3ea4afe9dc5",
   "metadata": {},
   "source": [
    "También instalaremos el paquete **lxml**, que ayuda a mejorar el análisis de datos que realiza Beautiful Soup. Puedes instalarlo con el siguiente comando:\n"
   ]
  },
  {
   "cell_type": "code",
   "execution_count": 3,
   "id": "b2713913-127d-4b0a-83d3-b5621d87fa32",
   "metadata": {
    "trusted": false
   },
   "outputs": [
    {
     "name": "stdout",
     "output_type": "stream",
     "text": [
      "Requirement already satisfied: lxml in /opt/conda/lib/python3.12/site-packages (5.2.1)\n",
      "Note: you may need to restart the kernel to use updated packages.\n"
     ]
    }
   ],
   "source": [
    "%pip install lxml"
   ]
  },
  {
   "cell_type": "code",
   "execution_count": 4,
   "id": "72f33398-2e53-4f67-8755-0be18946a5c6",
   "metadata": {
    "trusted": false
   },
   "outputs": [],
   "source": [
    "#Import required libraries\n",
    "from bs4 import BeautifulSoup\n",
    "from datetime import datetime\n",
    "import requests\n",
    "import time\n"
   ]
  },
  {
   "cell_type": "markdown",
   "id": "4b0fc1b7-d0b8-4a3b-ad7c-428257f78d0b",
   "metadata": {},
   "source": [
    "### **Extracción y Análisis de HTML**\n",
    "\n",
    "Para hacer **web scraping** y analizar HTML con éxito, seguiremos estos **cuatro pasos**:\n",
    "\n",
    "1.  **Hacer una solicitud GET** \n",
    "2.  **Analizar la página con Beautiful Soup**   \n",
    "3.  **Buscar elementos HTML** \n",
    "4.  **Obtener los atributos y el texto de estos elementos** \n"
   ]
  },
  {
   "cell_type": "markdown",
   "id": "da76595e-a769-4b2a-85d8-1403a237340f",
   "metadata": {},
   "source": [
    "### **Paso 1: Hacer una Solicitud GET para Obtener el HTML de una Página**\n",
    "\n",
    "Podemos usar la biblioteca **Requests** para:\n",
    "\n",
    "1.  **Hacer una solicitud GET** a la página web.    \n",
    "2.  **Leer el código HTML** de la página.\n",
    "    \n",
    "El proceso de hacer una solicitud y obtener un resultado es similar al flujo de trabajo de una API web. Sin embargo, en este caso, estamos haciendo la solicitud **directamente al sitio web**, y **tendremos que analizar el HTML nosotros mismos**. Esto es diferente de obtener datos organizados en un formato más estructurado, como **JSON** o **XML**.\n"
   ]
  },
  {
   "cell_type": "code",
   "execution_count": 5,
   "id": "13723832-2c05-45e7-8e5a-9276353a2320",
   "metadata": {
    "trusted": false
   },
   "outputs": [
    {
     "name": "stdout",
     "output_type": "stream",
     "text": [
      "<html lang=\"en\"> \n",
      "<!-- Trigger/Open The Modal -->\n",
      "<div style=\"position: fixed; z-index: 999; top: 5; left: 600; background-color: navy; display: block\">\n",
      "<button id=\"myBtn\" style=\"color: white; background-color: navy; display: block\">Translate Website</button></div>\n",
      "<!-- The Modal -->\n",
      "<div id=\"myModal\" class=\"modal\" style=\"display: none\">\n",
      "  <!-- Modal content -->\n",
      "  <div class=\"modal-content\">\n",
      "      <div class=\"modal-header\"><h3>\n",
      "    <span class=\"close\">&times;</span></h3></div>    \n",
      "    <p>The Illinois General Assembly offers the Google Translate service for visitor convenience. In no way should it be considered accurate as to the translation of any content herein.</p>\n",
      "    <p>Visitors of the Illinois General Assembly website are encouraged to use other translation services available on the internet.</p>\n",
      "    <p>The English language version is always the official and authoritative version of this website.</p>\n",
      "    <p>NOTE: To return to the original English language version, se\n"
     ]
    }
   ],
   "source": [
    "#Make a GET request\n",
    "req = requests.get('http://www.ilga.gov/senate/default.asp')\n",
    "#Read the content of the server’s response\n",
    "src = req.text\n",
    "#View some output\n",
    "print(src[:1000])\n"
   ]
  },
  {
   "cell_type": "markdown",
   "id": "0043f6fc-5b76-474e-bac5-ba35987bc6a7",
   "metadata": {},
   "source": [
    "### **Paso 2: Analizar la Página con Beautiful Soup**\n",
    "\n",
    "Ahora usaremos la función **BeautifulSoup** para **convertir la respuesta en una estructura de árbol HTML**. Esto nos devuelve un objeto llamado **soup object**, que contiene todo el HTML del documento original.\n",
    "\n",
    "Si te encuentras con un error relacionado con una biblioteca de análisis (**parser**), asegúrate de que tienes instalado el paquete **lxml**, ya que proporciona a Beautiful Soup las herramientas necesarias para procesar el HTML.\n"
   ]
  },
  {
   "cell_type": "code",
   "execution_count": 6,
   "id": "db26aa62-18ee-452e-a4fe-87280ed96e15",
   "metadata": {
    "trusted": false
   },
   "outputs": [
    {
     "name": "stdout",
     "output_type": "stream",
     "text": [
      "<html lang=\"en\">\n",
      " <!-- Trigger/Open The Modal -->\n",
      " <body>\n",
      "  <div style=\"position: fixed; z-index: 999; top: 5; left: 600; background-color: navy; display: block\">\n",
      "   <button id=\"myBtn\" style=\"color: white; background-color: navy; display: block\">\n",
      "    Translate Website\n",
      "   </button>\n",
      "  </div>\n",
      "  <!-- The Modal -->\n",
      "  <div class=\"modal\" id=\"myModal\" style=\"display: none\">\n",
      "   <!-- Modal content -->\n",
      "   <div class=\"modal-content\">\n",
      "    <div class=\"modal-header\">\n",
      "     <h3>\n",
      "      <span class=\"close\">\n",
      "       ×\n",
      "      </span>\n",
      "     </h3>\n",
      "    </div>\n",
      "    <p>\n",
      "     The Illinois General Assembly offers the Google Translate service for visitor convenience. In no way should it be considered accurate as to the translation of any content herein.\n",
      "    </p>\n",
      "    <p>\n",
      "     Visitors of the Illinois General Assembly website are encouraged to use other translation services available on the internet.\n",
      "    </p>\n",
      "    <p>\n",
      "     The English language version is always the official and authoritative version of this website.\n",
      "   \n"
     ]
    }
   ],
   "source": [
    "#Parse the response into an HTML tree\n",
    "soup = BeautifulSoup(src, 'lxml')\n",
    "#Take a look\n",
    "print(soup.prettify()[:1000])\n"
   ]
  },
  {
   "cell_type": "markdown",
   "id": "27e8dc51-6216-4193-99a0-fca49c408c4a",
   "metadata": {},
   "source": [
    "La salida se ve bastante similar a la anterior, pero ahora está organizada en un **objeto soup**, lo que nos permite recorrer la página de manera más sencilla y estructurada"
   ]
  },
  {
   "cell_type": "markdown",
   "id": "2ff66ff3-eddd-488a-97c9-b435521116ef",
   "metadata": {},
   "source": [
    "### **Paso 3: Buscar Elementos HTML**\n",
    "\n",
    "Beautiful Soup cuenta con varias funciones para encontrar componentes útiles en una página. Beautiful Soup permite encontrar elementos por: \n",
    "\n",
    "-   **Etiquetas HTML** \n",
    "-   **Atributos HTML** \n",
    "-   **Selectores CSS**\n",
    "    \n",
    "#### **Buscar por Etiquetas HTML**\n",
    "\n",
    "La función **`find_all`** busca en el árbol de **soup** y devuelve **todos los elementos** que coincidan con una etiqueta HTML específica.\n",
    "\n",
    "¿Qué hace el siguiente ejemplo?\n"
   ]
  },
  {
   "cell_type": "code",
   "execution_count": 7,
   "id": "526b4deb-4730-4f34-896c-f30160e47664",
   "metadata": {
    "trusted": false
   },
   "outputs": [
    {
     "name": "stdout",
     "output_type": "stream",
     "text": [
      "[<a class=\"goog-logo-link\" href=\"https://translate.google.com\" target=\"_blank\"><img alt=\"Google Translate\" height=\"14\" src=\"https://www.gstatic.com/images/branding/googlelogo/1x/googlelogo_color_42x16dp.png\" style=\"padding-right: 3px;\" width=\"37\"/>Translate</a>, <a href=\"/default.asp\"><img alt=\"Illinois General Assembly\" border=\"0\" height=\"49\" src=\"/images/logo_sm.gif\" width=\"462\"/></a>, <a class=\"mainmenu\" href=\"/\">Home</a>, <a class=\"mainmenu\" href=\"/legislation/\" onblur=\"HM_f_PopDown('elMenu1')\" onfocus=\"HM_f_PopUp('elMenu1',event)\" onmouseout=\"HM_f_PopDown('elMenu1')\" onmouseover=\"HM_f_PopUp('elMenu1',event)\">Legislation &amp; Laws</a>, <a class=\"mainmenu\" href=\"/senate/\" onblur=\"HM_f_PopDown('elMenu3')\" onfocus=\"HM_f_PopUp('elMenu3',event)\" onmouseout=\"HM_f_PopDown('elMenu3')\" onmouseover=\"HM_f_PopUp('elMenu3',event)\">Senate</a>, <a class=\"mainmenu\" href=\"/house/\" onblur=\"HM_f_PopDown('elMenu2')\" onfocus=\"HM_f_PopUp('elMenu2',event)\" onmouseout=\"HM_f_PopDown('elMenu2')\" onmouseover=\"HM_f_PopUp('elMenu2',event)\">House</a>, <a class=\"mainmenu\" href=\"/mylegislation/\" onblur=\"HM_f_PopDown('elMenu4')\" onfocus=\"HM_f_PopUp('elMenu4',event)\" onmouseout=\"HM_f_PopDown('elMenu4')\" onmouseover=\"HM_f_PopUp('elMenu4',event)\">My Legislation</a>, <a class=\"mainmenu\" href=\"/sitemap.asp\">Site Map</a>, <a class=\"sidemenu\" href=\"/senate/default.asp\">  Members  </a>, <a class=\"sidemenu\" href=\"/senate/committees/default.asp\">  Committees  </a>]\n"
     ]
    }
   ],
   "source": [
    "#Find all elements with a certain tag\n",
    "a_tags = soup.find_all(\"a\")\n",
    "print(a_tags[:10])\n"
   ]
  },
  {
   "cell_type": "markdown",
   "id": "b85ec333-669d-41bc-881f-d0ba0a2ee096",
   "metadata": {},
   "source": [
    "Porque `find_all()` es el método más popular en la API de búsqueda de Beautiful Soup, puedes usar un atajo para ello. Si tratas el objeto BeautifulSoup como si fuera una función, entonces es lo mismo que llamar a `find_all()` en ese objeto.\n",
    "\n",
    "Estas dos líneas de código son equivalentes:\n"
   ]
  },
  {
   "cell_type": "code",
   "execution_count": 8,
   "id": "b78931fc-6ee5-48f4-bff3-162a7ea655e1",
   "metadata": {
    "trusted": false
   },
   "outputs": [
    {
     "name": "stdout",
     "output_type": "stream",
     "text": [
      "<a class=\"goog-logo-link\" href=\"https://translate.google.com\" target=\"_blank\"><img alt=\"Google Translate\" height=\"14\" src=\"https://www.gstatic.com/images/branding/googlelogo/1x/googlelogo_color_42x16dp.png\" style=\"padding-right: 3px;\" width=\"37\"/>Translate</a>\n",
      "<a class=\"goog-logo-link\" href=\"https://translate.google.com\" target=\"_blank\"><img alt=\"Google Translate\" height=\"14\" src=\"https://www.gstatic.com/images/branding/googlelogo/1x/googlelogo_color_42x16dp.png\" style=\"padding-right: 3px;\" width=\"37\"/>Translate</a>\n"
     ]
    }
   ],
   "source": [
    "a_tags = soup.find_all(\"a\")\n",
    "a_tags_alt = soup(\"a\")\n",
    "print(a_tags[0])\n",
    "print(a_tags_alt[0])\n"
   ]
  },
  {
   "cell_type": "markdown",
   "id": "66e69cbe-36d4-4295-9d42-6229cd737933",
   "metadata": {},
   "source": [
    "¿Cuántos enlaces obtuvimos?"
   ]
  },
  {
   "cell_type": "code",
   "execution_count": 9,
   "id": "4dc5328c-1d9c-45e3-bbe2-476c622338e0",
   "metadata": {
    "trusted": false
   },
   "outputs": [
    {
     "name": "stdout",
     "output_type": "stream",
     "text": [
      "213\n"
     ]
    }
   ],
   "source": [
    "print(len(a_tags))"
   ]
  },
  {
   "cell_type": "markdown",
   "id": "2ee6b3dd-8596-4f2d-beaa-119690adee51",
   "metadata": {},
   "source": [
    "¡Eso es mucho! Muchos elementos en una página tendrán la misma etiqueta HTML. Por ejemplo, si buscas todo lo que tenga la etiqueta a, es probable que obtengas más resultados, muchos de los cuales quizás no desees. Recuerda que la etiqueta a define un hipervínculo, por lo que generalmente encontrarás muchos en cualquier página dada.\n",
    "\n",
    "¿Qué pasaría si quisiéramos buscar etiquetas HTML con ciertos atributos, como clases CSS particulares?\n",
    "\n",
    "Podemos hacer esto añadiendo un argumento adicional a `find_all`. En el ejemplo a continuación, estamos encontrando todas las etiquetas a y luego filtrando aquellas con `class_=\"sidemenu\"`.\n"
   ]
  },
  {
   "cell_type": "code",
   "execution_count": 10,
   "id": "b36a8ac6-758d-4c16-a1bd-d0a5652634d9",
   "metadata": {
    "trusted": false
   },
   "outputs": [
    {
     "data": {
      "text/plain": [
       "[<a class=\"sidemenu\" href=\"/senate/default.asp\">  Members  </a>,\n",
       " <a class=\"sidemenu\" href=\"/senate/committees/default.asp\">  Committees  </a>,\n",
       " <a class=\"sidemenu\" href=\"/senate/schedules/default.asp\">  Schedules  </a>,\n",
       " <a class=\"sidemenu\" href=\"/senate/journals/default.asp\">  Journals  </a>,\n",
       " <a class=\"sidemenu\" href=\"/senate/transcripts/default.asp\">  Transcripts  </a>]"
      ]
     },
     "execution_count": 10,
     "metadata": {},
     "output_type": "execute_result"
    }
   ],
   "source": [
    "#Get only the 'a' tags in 'sidemenu' class\n",
    "side_menus = soup(\"a\", class_=\"sidemenu\")\n",
    "side_menus[:5]\n"
   ]
  },
  {
   "cell_type": "markdown",
   "id": "6a826167-dfdd-427b-a779-d7059016aa5d",
   "metadata": {},
   "source": [
    "Una forma más eficiente de buscar elementos en un sitio web es a través de un selector CSS. Para esto, tenemos que usar un método diferente llamado `select()`. Simplemente pasa una cadena al `.select()` para obtener todos los elementos que tengan esa cadena como un selector CSS válido.\n",
    "\n",
    "En el ejemplo anterior, podemos usar \"a.sidemenu\" como un selector CSS, que devuelve todas las etiquetas a con la clase sidemenu.\n"
   ]
  },
  {
   "cell_type": "code",
   "execution_count": 11,
   "id": "0eb87ab6-4982-47b7-8f97-a6cdb83cbf77",
   "metadata": {
    "trusted": false
   },
   "outputs": [
    {
     "data": {
      "text/plain": [
       "[<a class=\"sidemenu\" href=\"/senate/default.asp\">  Members  </a>,\n",
       " <a class=\"sidemenu\" href=\"/senate/committees/default.asp\">  Committees  </a>,\n",
       " <a class=\"sidemenu\" href=\"/senate/schedules/default.asp\">  Schedules  </a>,\n",
       " <a class=\"sidemenu\" href=\"/senate/journals/default.asp\">  Journals  </a>,\n",
       " <a class=\"sidemenu\" href=\"/senate/transcripts/default.asp\">  Transcripts  </a>]"
      ]
     },
     "execution_count": 11,
     "metadata": {},
     "output_type": "execute_result"
    }
   ],
   "source": [
    "#Get elements with \"a.sidemenu\" CSS Selector.\n",
    "selected = soup.select(\"a.sidemenu\")\n",
    "selected[:5]\n"
   ]
  },
  {
   "cell_type": "markdown",
   "id": "d72443d2-124c-4df9-a1fa-7abe875ecd75",
   "metadata": {},
   "source": [
    "### **Paso 4: Obtener Atributos y Texto de los Elementos**\n",
    "\n",
    "Una vez que identificamos los elementos, queremos acceder a la información dentro de ellos. Generalmente, esto significa dos cosas:\n",
    "\n",
    "-   **Texto** \n",
    "-   **Atributos** \n",
    "\n",
    "Obtener el texto dentro de un elemento es fácil. Solo necesitamos usar la propiedad **`.text`** de un objeto de etiqueta:\n"
   ]
  },
  {
   "cell_type": "code",
   "execution_count": 12,
   "id": "d50d241d-2560-4fcd-82c3-1a8d4bd59ed7",
   "metadata": {
    "trusted": false
   },
   "outputs": [
    {
     "name": "stdout",
     "output_type": "stream",
     "text": [
      "<a class=\"sidemenu\" href=\"/senate/default.asp\">  Members  </a>\n",
      "Class:  <class 'bs4.element.Tag'>\n"
     ]
    }
   ],
   "source": [
    "#Get all sidemenu links as a list\n",
    "side_menu_links = soup.select(\"a.sidemenu\")\n",
    "\n",
    "#Examine the first link\n",
    "first_link = side_menu_links[0]\n",
    "print(first_link)\n",
    "\n",
    "#What class is this variable?\n",
    "print('Class: ', type(first_link))\n"
   ]
  },
  {
   "cell_type": "markdown",
   "id": "bf1805d8-0491-4af4-88d5-a752c50f9de1",
   "metadata": {},
   "source": [
    "¡Es una etiqueta de Beautiful Soup! Esto significa que tiene un miembro de texto:"
   ]
  },
  {
   "cell_type": "code",
   "execution_count": 13,
   "id": "de691446-f37d-44f5-b773-da8c237736fb",
   "metadata": {
    "trusted": false
   },
   "outputs": [
    {
     "name": "stdout",
     "output_type": "stream",
     "text": [
      "  Members  \n"
     ]
    }
   ],
   "source": [
    "print(first_link.text)"
   ]
  },
  {
   "cell_type": "markdown",
   "id": "fb508f31-e4f1-4b1d-b168-c0a0e3fc894b",
   "metadata": {},
   "source": [
    "A veces queremos el valor de ciertos atributos. Esto es particularmente relevante para las etiquetas a, o enlaces, donde el atributo href nos indica a dónde lleva el enlace.\n",
    "\n",
    "💡 Consejo: Puedes acceder a los atributos de una etiqueta tratándola como un diccionario:\n"
   ]
  },
  {
   "cell_type": "code",
   "execution_count": 14,
   "id": "daa5566e-91dc-49d3-abf4-fdbef34c03a9",
   "metadata": {
    "trusted": false
   },
   "outputs": [
    {
     "name": "stdout",
     "output_type": "stream",
     "text": [
      "/senate/default.asp\n"
     ]
    }
   ],
   "source": [
    "print(first_link['href'])"
   ]
  },
  {
   "cell_type": "markdown",
   "id": "1f5f4812-4cf0-411c-8d75-68fcbad97abc",
   "metadata": {},
   "source": [
    "## **Scraping la Asamblea General de Illinois**\n",
    "\n",
    "Créalo o no, esas son realmente las herramientas fundamentales que necesitas para raspar un sitio web. Una vez que dediques más tiempo a familiarizarte con HTML y CSS, simplemente se trata de entender la estructura de un sitio web en particular y aplicar inteligentemente las herramientas de Beautiful Soup y Python.\n",
    "\n",
    "Apliquemos estas habilidades para raspar la 98ª Asamblea General de Illinois.\n",
    "\n",
    "Específicamente, nuestro objetivo es raspar información sobre cada senador, incluyendo su nombre, distrito y partido.\n",
    "\n",
    "### **Scrapear y Analizar la Página Web**\n",
    "\n",
    "Ahora vamos a **scrapear** y **parsear** la página web utilizando las herramientas que aprendimos en la sección anterior. \n"
   ]
  },
  {
   "cell_type": "code",
   "execution_count": 15,
   "id": "3c56759f-fcd0-47a8-9a01-417c179b2de1",
   "metadata": {
    "trusted": false
   },
   "outputs": [],
   "source": [
    "#Make a GET request\n",
    "req = requests.get('http://www.ilga.gov/senate/default.asp?GA=98')\n",
    "#Read the content of the server’s response\n",
    "src = req.text\n",
    "#Soup it\n",
    "soup = BeautifulSoup(src, \"lxml\")\n"
   ]
  },
  {
   "cell_type": "markdown",
   "id": "3f8f510e-9a2c-4151-9065-f35af384c105",
   "metadata": {},
   "source": [
    "### **Buscar los elementos de la tabla**\n",
    "\n",
    "Nuestro objetivo es obtener los elementos de la tabla en la página web. Recuerda: las filas se identifican por la etiqueta **tr**. Vamos a usar **find_all** para obtener estos elementos.\n"
   ]
  },
  {
   "cell_type": "code",
   "execution_count": 16,
   "id": "4d3b8cd2-ad8f-4335-b255-05019e91a474",
   "metadata": {
    "trusted": false
   },
   "outputs": [
    {
     "data": {
      "text/plain": [
       "73"
      ]
     },
     "execution_count": 16,
     "metadata": {},
     "output_type": "execute_result"
    }
   ],
   "source": [
    "#Get all table row elements\n",
    "rows = soup.find_all(\"tr\")\n",
    "len(rows)\n"
   ]
  },
  {
   "cell_type": "markdown",
   "id": "30c707be-e2a3-49bc-994d-c9e4b9166de8",
   "metadata": {},
   "source": [
    "⚠️ **Advertencia:** Ten en cuenta que **`find_all`** obtiene **todos** los elementos con la etiqueta `<tr>`. Sin embargo, solo queremos algunos de ellos.\n",
    "\n",
    "Si usamos la función **\"Inspeccionar\"** en Google Chrome y observamos con atención, podemos utilizar **selectores CSS** para obtener solo las filas que nos interesan.\n",
    "\n",
    "Específicamente, queremos **las filas internas** de la tabla.\n"
   ]
  },
  {
   "cell_type": "code",
   "execution_count": 17,
   "id": "d1bbb7ae-322f-4ac6-a659-b44532bd7589",
   "metadata": {
    "trusted": false
   },
   "outputs": [
    {
     "name": "stdout",
     "output_type": "stream",
     "text": [
      "<tr><td colspan=\"5\">\n",
      "<span class=\"heading\">Illinois State Senators</span>\n",
      "<span class=\"italics\">  98th  General Assembly</span><br/>\n",
      "<!-- 3/2/09 temp comment out until fixed for GA specific-->\n",
      "<!-- add 97th ga currently no info -->\n",
      "<a href=\"98GA_Senate_Leadership.pdf\">Leadership</a> <a href=\"98th_Senate_Officers.pdf\">Officers</a> <a href=\"98GA_Senate_Seating_Chart.pdf\">Senate Seating Chart</a>  <span class=\"content\"><b>Democrats:</b> 40   <b>Republicans:</b> 19</span><br/>\n",
      "</td></tr> \n",
      "\n",
      "<tr>\n",
      "<td class=\"header\" width=\"45%\"><a class=\"filetab\" href=\"javascript:Sort('LastName','',98);\" title=\"Sort by Senator\">Senator</a></td>\n",
      "<td align=\"center\" class=\"header\" width=\"15%\">Bills</td>\n",
      "<td align=\"center\" class=\"header\" width=\"10%\">Committees</td>\n",
      "<td align=\"center\" class=\"header\" width=\"15%\"><a class=\"filetab\" href=\"javascript:Sort('DistrictNumber','',98);\" title=\"Sort by District\">District</a></td>\n",
      "<td align=\"center\" class=\"header\" width=\"15%\"><a class=\"filetab\" href=\"javascript:Sort('Party','',98);\" title=\"Sort by Party\">Party</a></td>\n",
      "</tr> \n",
      "\n",
      "<tr><td bgcolor=\"white\" class=\"detail\" width=\"40%\"><a class=\"notranslate\" href=\"/senate/Senator.asp?GA=98&amp;MemberID=1911\">Pamela J. Althoff</a></td><td align=\"center\" bgcolor=\"white\" class=\"detail\" width=\"15%\"><a href=\"SenatorBills.asp?GA=98&amp;MemberID=1911\">Bills</a></td><td align=\"center\" bgcolor=\"white\" class=\"detail\" width=\"15%\"><a href=\"SenCommittees.asp?GA=98&amp;MemberID=1911\">Committees</a></td><td align=\"center\" bgcolor=\"white\" class=\"detail\" width=\"15%\">32</td><td align=\"center\" bgcolor=\"white\" class=\"detail\" width=\"15%\">R</td></tr> \n",
      "\n",
      "<tr><td bgcolor=\"EBEBEB\" class=\"detail\" width=\"40%\"><a class=\"notranslate\" href=\"/senate/Senator.asp?GA=98&amp;MemberID=2018\">Jason A. Barickman</a></td><td align=\"center\" bgcolor=\"EBEBEB\" class=\"detail\" width=\"15%\"><a href=\"SenatorBills.asp?GA=98&amp;MemberID=2018\">Bills</a></td><td align=\"center\" bgcolor=\"EBEBEB\" class=\"detail\" width=\"15%\"><a href=\"SenCommittees.asp?GA=98&amp;MemberID=2018\">Committees</a></td><td align=\"center\" bgcolor=\"EBEBEB\" class=\"detail\" width=\"15%\">53</td><td align=\"center\" bgcolor=\"EBEBEB\" class=\"detail\" width=\"15%\">R</td></tr> \n",
      "\n",
      "<tr><td bgcolor=\"white\" class=\"detail\" width=\"40%\"><a class=\"notranslate\" href=\"/senate/Senator.asp?GA=98&amp;MemberID=2272\">Scott M Bennett</a></td><td align=\"center\" bgcolor=\"white\" class=\"detail\" width=\"15%\"><a href=\"SenatorBills.asp?GA=98&amp;MemberID=2272\">Bills</a></td><td align=\"center\" bgcolor=\"white\" class=\"detail\" width=\"15%\"><a href=\"SenCommittees.asp?GA=98&amp;MemberID=2272\">Committees</a></td><td align=\"center\" bgcolor=\"white\" class=\"detail\" width=\"15%\">52</td><td align=\"center\" bgcolor=\"white\" class=\"detail\" width=\"15%\">D</td></tr> \n",
      "\n"
     ]
    }
   ],
   "source": [
    "#Returns every ‘tr tr tr’ css selector in the page\n",
    "rows = soup.select('tr tr tr')\n",
    "\n",
    "for row in rows[:5]:\n",
    "    print(row, '\\n')\n"
   ]
  },
  {
   "cell_type": "markdown",
   "id": "246ec3db-9b49-45f3-8d3a-744eabaf4081",
   "metadata": {},
   "source": [
    "Parece que necesitamos todo después de las **primeras dos filas**.\n",
    "\n",
    "Comencemos trabajando con una sola fila y, a partir de ahí, construiremos nuestro bucle. \n"
   ]
  },
  {
   "cell_type": "code",
   "execution_count": 18,
   "id": "15c44288-ea56-4ed5-aff3-bb93907976fb",
   "metadata": {
    "trusted": false
   },
   "outputs": [
    {
     "name": "stdout",
     "output_type": "stream",
     "text": [
      "<tr>\n",
      " <td bgcolor=\"white\" class=\"detail\" width=\"40%\">\n",
      "  <a class=\"notranslate\" href=\"/senate/Senator.asp?GA=98&amp;MemberID=1911\">\n",
      "   Pamela J. Althoff\n",
      "  </a>\n",
      " </td>\n",
      " <td align=\"center\" bgcolor=\"white\" class=\"detail\" width=\"15%\">\n",
      "  <a href=\"SenatorBills.asp?GA=98&amp;MemberID=1911\">\n",
      "   Bills\n",
      "  </a>\n",
      " </td>\n",
      " <td align=\"center\" bgcolor=\"white\" class=\"detail\" width=\"15%\">\n",
      "  <a href=\"SenCommittees.asp?GA=98&amp;MemberID=1911\">\n",
      "   Committees\n",
      "  </a>\n",
      " </td>\n",
      " <td align=\"center\" bgcolor=\"white\" class=\"detail\" width=\"15%\">\n",
      "  32\n",
      " </td>\n",
      " <td align=\"center\" bgcolor=\"white\" class=\"detail\" width=\"15%\">\n",
      "  R\n",
      " </td>\n",
      "</tr>\n",
      "\n"
     ]
    }
   ],
   "source": [
    "example_row = rows[2]\n",
    "print(example_row.prettify())\n"
   ]
  },
  {
   "cell_type": "markdown",
   "id": "b7a177e6-5e46-4ec2-9d37-9c62f9d29451",
   "metadata": {},
   "source": [
    "Desglosaremos esta fila en sus **celdas/columnas** usando el método **`select`** con **selectores CSS**.\n",
    "\n",
    "Si observamos detenidamente el HTML, hay varias formas de hacerlo:\n",
    "\n",
    "1.  Podemos identificar las celdas por su etiqueta **`td`**.    \n",
    "2.  Podemos usar el nombre de la clase **`.detail`**.    \n",
    "3.  Podemos combinar ambos y usar el selector **`td.detail`**. \n"
   ]
  },
  {
   "cell_type": "code",
   "execution_count": 19,
   "id": "235d7b24-6eb7-4da7-bd3f-4120e7ec72fe",
   "metadata": {
    "trusted": false
   },
   "outputs": [
    {
     "name": "stdout",
     "output_type": "stream",
     "text": [
      "<td bgcolor=\"white\" class=\"detail\" width=\"40%\"><a class=\"notranslate\" href=\"/senate/Senator.asp?GA=98&amp;MemberID=1911\">Pamela J. Althoff</a></td>\n",
      "<td align=\"center\" bgcolor=\"white\" class=\"detail\" width=\"15%\"><a href=\"SenatorBills.asp?GA=98&amp;MemberID=1911\">Bills</a></td>\n",
      "<td align=\"center\" bgcolor=\"white\" class=\"detail\" width=\"15%\"><a href=\"SenCommittees.asp?GA=98&amp;MemberID=1911\">Committees</a></td>\n",
      "<td align=\"center\" bgcolor=\"white\" class=\"detail\" width=\"15%\">32</td>\n",
      "<td align=\"center\" bgcolor=\"white\" class=\"detail\" width=\"15%\">R</td>\n",
      "\n",
      "<td bgcolor=\"white\" class=\"detail\" width=\"40%\"><a class=\"notranslate\" href=\"/senate/Senator.asp?GA=98&amp;MemberID=1911\">Pamela J. Althoff</a></td>\n",
      "<td align=\"center\" bgcolor=\"white\" class=\"detail\" width=\"15%\"><a href=\"SenatorBills.asp?GA=98&amp;MemberID=1911\">Bills</a></td>\n",
      "<td align=\"center\" bgcolor=\"white\" class=\"detail\" width=\"15%\"><a href=\"SenCommittees.asp?GA=98&amp;MemberID=1911\">Committees</a></td>\n",
      "<td align=\"center\" bgcolor=\"white\" class=\"detail\" width=\"15%\">32</td>\n",
      "<td align=\"center\" bgcolor=\"white\" class=\"detail\" width=\"15%\">R</td>\n",
      "\n",
      "<td bgcolor=\"white\" class=\"detail\" width=\"40%\"><a class=\"notranslate\" href=\"/senate/Senator.asp?GA=98&amp;MemberID=1911\">Pamela J. Althoff</a></td>\n",
      "<td align=\"center\" bgcolor=\"white\" class=\"detail\" width=\"15%\"><a href=\"SenatorBills.asp?GA=98&amp;MemberID=1911\">Bills</a></td>\n",
      "<td align=\"center\" bgcolor=\"white\" class=\"detail\" width=\"15%\"><a href=\"SenCommittees.asp?GA=98&amp;MemberID=1911\">Committees</a></td>\n",
      "<td align=\"center\" bgcolor=\"white\" class=\"detail\" width=\"15%\">32</td>\n",
      "<td align=\"center\" bgcolor=\"white\" class=\"detail\" width=\"15%\">R</td>\n",
      "\n"
     ]
    }
   ],
   "source": [
    "for cell in example_row.select('td'):\n",
    "    print(cell)\n",
    "print()\n",
    "\n",
    "for cell in example_row.select('.detail'):\n",
    "    print(cell)\n",
    "print()\n",
    "\n",
    "for cell in example_row.select('td.detail'):\n",
    "    print(cell)\n",
    "print()\n"
   ]
  },
  {
   "cell_type": "markdown",
   "id": "a38dfbd2-c446-48db-b326-43815ccdc3fa",
   "metadata": {},
   "source": [
    "Podemos confirmar que todas estas opciones producen el mismo resultado. "
   ]
  },
  {
   "cell_type": "code",
   "execution_count": 20,
   "id": "1d0999f9-4f18-45eb-9b20-253986e9bfaa",
   "metadata": {
    "trusted": false
   },
   "outputs": [],
   "source": [
    "assert example_row.select('td') == example_row.select('.detail') == example_row.select('td.detail')"
   ]
  },
  {
   "cell_type": "markdown",
   "id": "8e8c8954-9802-4c46-b9a1-8a86f44c7d4c",
   "metadata": {},
   "source": [
    "Utilicemos el selector **`td.detail`** para ser lo más específicos posible. "
   ]
  },
  {
   "cell_type": "code",
   "execution_count": 21,
   "id": "0cfeca2f-5bd7-4a7e-9d5d-b2a45138ab11",
   "metadata": {
    "trusted": false
   },
   "outputs": [
    {
     "data": {
      "text/plain": [
       "[<td bgcolor=\"white\" class=\"detail\" width=\"40%\"><a class=\"notranslate\" href=\"/senate/Senator.asp?GA=98&amp;MemberID=1911\">Pamela J. Althoff</a></td>,\n",
       " <td align=\"center\" bgcolor=\"white\" class=\"detail\" width=\"15%\"><a href=\"SenatorBills.asp?GA=98&amp;MemberID=1911\">Bills</a></td>,\n",
       " <td align=\"center\" bgcolor=\"white\" class=\"detail\" width=\"15%\"><a href=\"SenCommittees.asp?GA=98&amp;MemberID=1911\">Committees</a></td>,\n",
       " <td align=\"center\" bgcolor=\"white\" class=\"detail\" width=\"15%\">32</td>,\n",
       " <td align=\"center\" bgcolor=\"white\" class=\"detail\" width=\"15%\">R</td>]"
      ]
     },
     "execution_count": 21,
     "metadata": {},
     "output_type": "execute_result"
    }
   ],
   "source": [
    "#Select only those 'td' tags with class 'detail' \n",
    "detail_cells = example_row.select('td.detail')\n",
    "detail_cells\n"
   ]
  },
  {
   "cell_type": "markdown",
   "id": "3bb128fa-f5bb-436c-a98b-1b058a976acb",
   "metadata": {},
   "source": [
    "La mayor parte del tiempo, estamos interesados en el texto real de un sitio web, no en sus etiquetas. Recuerda que para obtener el texto de un elemento HTML, usamos el atributo text:"
   ]
  },
  {
   "cell_type": "code",
   "execution_count": 22,
   "id": "e6447e99-27eb-4ed5-b36a-2b87877b2dba",
   "metadata": {
    "trusted": false
   },
   "outputs": [
    {
     "name": "stdout",
     "output_type": "stream",
     "text": [
      "['Pamela J. Althoff', 'Bills', 'Committees', '32', 'R']\n"
     ]
    }
   ],
   "source": [
    "#Keep only the text in each of those cells\n",
    "row_data = [cell.text for cell in detail_cells]\n",
    "\n",
    "print(row_data)\n"
   ]
  },
  {
   "cell_type": "markdown",
   "id": "c8892611-47d2-4f2c-bbb4-2e51d0c2f440",
   "metadata": {},
   "source": [
    "¡Se ve bien! Ahora solo necesitamos usar nuestros conocimientos básicos de Python para obtener los elementos de esta lista que queremos. Recuerda, queremos el nombre del senador, su distrito y su partido."
   ]
  },
  {
   "cell_type": "code",
   "execution_count": 23,
   "id": "5522a087-7330-4ac9-afb7-73af4d36b3f0",
   "metadata": {
    "trusted": false
   },
   "outputs": [
    {
     "name": "stdout",
     "output_type": "stream",
     "text": [
      "Pamela J. Althoff\n",
      "32\n",
      "R\n"
     ]
    }
   ],
   "source": [
    "print(row_data[0]) # Name\n",
    "print(row_data[3]) # District\n",
    "print(row_data[4]) # Party\n"
   ]
  },
  {
   "cell_type": "markdown",
   "id": "403a0989-4ee9-4fc9-9b80-797f3a8640f7",
   "metadata": {},
   "source": [
    "### **Eliminar Filas No Deseadas**\n",
    "\n",
    "Vimos al principio que no todas las filas que obtuvimos corresponden realmente a un senador. Necesitaremos hacer algo de limpieza antes de poder continuar. Echa un vistazo a algunos ejemplos:\n"
   ]
  },
  {
   "cell_type": "code",
   "execution_count": 24,
   "id": "0097750a-ac7e-49fb-a72e-4b7289929aaa",
   "metadata": {
    "trusted": false
   },
   "outputs": [
    {
     "name": "stdout",
     "output_type": "stream",
     "text": [
      "Row 0:\n",
      " <tr><td colspan=\"5\">\n",
      "<span class=\"heading\">Illinois State Senators</span>\n",
      "<span class=\"italics\">  98th  General Assembly</span><br/>\n",
      "<!-- 3/2/09 temp comment out until fixed for GA specific-->\n",
      "<!-- add 97th ga currently no info -->\n",
      "<a href=\"98GA_Senate_Leadership.pdf\">Leadership</a> <a href=\"98th_Senate_Officers.pdf\">Officers</a> <a href=\"98GA_Senate_Seating_Chart.pdf\">Senate Seating Chart</a>  <span class=\"content\"><b>Democrats:</b> 40   <b>Republicans:</b> 19</span><br/>\n",
      "</td></tr> \n",
      "\n",
      "Row 1:\n",
      " <tr>\n",
      "<td class=\"header\" width=\"45%\"><a class=\"filetab\" href=\"javascript:Sort('LastName','',98);\" title=\"Sort by Senator\">Senator</a></td>\n",
      "<td align=\"center\" class=\"header\" width=\"15%\">Bills</td>\n",
      "<td align=\"center\" class=\"header\" width=\"10%\">Committees</td>\n",
      "<td align=\"center\" class=\"header\" width=\"15%\"><a class=\"filetab\" href=\"javascript:Sort('DistrictNumber','',98);\" title=\"Sort by District\">District</a></td>\n",
      "<td align=\"center\" class=\"header\" width=\"15%\"><a class=\"filetab\" href=\"javascript:Sort('Party','',98);\" title=\"Sort by Party\">Party</a></td>\n",
      "</tr> \n",
      "\n",
      "Last Row:\n",
      " <tr>\n",
      "<td align=\"left\" class=\"footer\" width=\"107\">  <img alt=\"Legislative Information System logo\" height=\"45\" src=\"/images/lislogo.jpg\" width=\"100\"/></td>\n",
      "<td align=\"\" class=\"footer\" valign=\"top\" width=\"100%\">This site is maintained for the Illinois General Assembly \n",
      "by the<br/>Legislative Information System, 705 Stratton Building, Springfield, Illinois 62706<br/>\n",
      "<a class=\"links\" href=\"mailto:webmaster@ilga.gov?subject=Email from ILGA Web\" style=\"font-size:8px\">\n",
      "      Contact ILGA Webmaster</a>\n",
      "</td>\n",
      "</tr>\n"
     ]
    }
   ],
   "source": [
    "print('Row 0:\\n', rows[0], '\\n')\n",
    "print('Row 1:\\n', rows[1], '\\n')\n",
    "print('Last Row:\\n', rows[-1])\n"
   ]
  },
  {
   "cell_type": "markdown",
   "id": "86f9f6b7-1f8f-499a-9e27-7e0e1102b8d3",
   "metadata": {},
   "source": [
    "Cuando escribamos nuestro bucle **_for_**, queremos que solo se aplique a las filas relevantes. Por lo tanto, necesitaremos filtrar las filas irrelevantes. La forma de hacerlo es compararlas con las filas que sí queremos, ver en qué se diferencian y luego formular una condición basada en esas diferencias.\n",
    "\n",
    "Como puedes imaginar, hay muchas formas posibles de hacerlo, y dependerá del sitio web. Mostraremos algunas aquí para darte una idea de cómo hacerlo.\n"
   ]
  },
  {
   "cell_type": "code",
   "execution_count": 25,
   "id": "09857c36-f2cf-4c64-b702-12e8523c8a35",
   "metadata": {
    "trusted": false
   },
   "outputs": [
    {
     "name": "stdout",
     "output_type": "stream",
     "text": [
      "1\n",
      "11\n",
      "5\n",
      "5\n"
     ]
    }
   ],
   "source": [
    "#Bad rows\n",
    "print(len(rows[0]))\n",
    "print(len(rows[1]))\n",
    "\n",
    "#Good rows\n",
    "print(len(rows[2]))\n",
    "print(len(rows[3]))\n"
   ]
  },
  {
   "cell_type": "markdown",
   "id": "5c3e1cc6-0ddf-4319-853f-dc77695ac895",
   "metadata": {},
   "source": [
    "Quizás las filas correctas tengan una longitud de 5. Vamos a comprobarlo:"
   ]
  },
  {
   "cell_type": "code",
   "execution_count": 26,
   "id": "efbe8bb4-781c-480d-8420-86608383a05a",
   "metadata": {
    "trusted": false
   },
   "outputs": [
    {
     "name": "stdout",
     "output_type": "stream",
     "text": [
      "<tr><td bgcolor=\"white\" class=\"detail\" width=\"40%\"><a class=\"notranslate\" href=\"/senate/Senator.asp?GA=98&amp;MemberID=1911\">Pamela J. Althoff</a></td><td align=\"center\" bgcolor=\"white\" class=\"detail\" width=\"15%\"><a href=\"SenatorBills.asp?GA=98&amp;MemberID=1911\">Bills</a></td><td align=\"center\" bgcolor=\"white\" class=\"detail\" width=\"15%\"><a href=\"SenCommittees.asp?GA=98&amp;MemberID=1911\">Committees</a></td><td align=\"center\" bgcolor=\"white\" class=\"detail\" width=\"15%\">32</td><td align=\"center\" bgcolor=\"white\" class=\"detail\" width=\"15%\">R</td></tr> \n",
      "\n",
      "<tr><td bgcolor=\"white\" class=\"detail\" width=\"40%\"><a class=\"notranslate\" href=\"/senate/Senator.asp?GA=98&amp;MemberID=2035\">Patricia Van Pelt</a></td><td align=\"center\" bgcolor=\"white\" class=\"detail\" width=\"15%\"><a href=\"SenatorBills.asp?GA=98&amp;MemberID=2035\">Bills</a></td><td align=\"center\" bgcolor=\"white\" class=\"detail\" width=\"15%\"><a href=\"SenCommittees.asp?GA=98&amp;MemberID=2035\">Committees</a></td><td align=\"center\" bgcolor=\"white\" class=\"detail\" width=\"15%\">5</td><td align=\"center\" bgcolor=\"white\" class=\"detail\" width=\"15%\">D</td></tr> \n",
      "\n",
      "<tr>\n",
      "<td align=\"left\" class=\"footer\" width=\"107\">  <img alt=\"Legislative Information System logo\" height=\"45\" src=\"/images/lislogo.jpg\" width=\"100\"/></td>\n",
      "<td align=\"\" class=\"footer\" valign=\"top\" width=\"100%\">This site is maintained for the Illinois General Assembly \n",
      "by the<br/>Legislative Information System, 705 Stratton Building, Springfield, Illinois 62706<br/>\n",
      "<a class=\"links\" href=\"mailto:webmaster@ilga.gov?subject=Email from ILGA Web\" style=\"font-size:8px\">\n",
      "      Contact ILGA Webmaster</a>\n",
      "</td>\n",
      "</tr>\n"
     ]
    }
   ],
   "source": [
    "good_rows = [row for row in rows if len(row) == 5]\n",
    "#Let's check some rows\n",
    "print(good_rows[0], '\\n')\n",
    "print(good_rows[-2], '\\n')\n",
    "print(good_rows[-1])\n"
   ]
  },
  {
   "cell_type": "markdown",
   "id": "db4a1d07-3c7b-4968-b3a3-dca40b9e1c0a",
   "metadata": {},
   "source": [
    "Encontramos una fila de pie de página en nuestra lista que queremos evitar. Probemos otra cosa:"
   ]
  },
  {
   "cell_type": "code",
   "execution_count": 27,
   "id": "983af875-8647-4d98-b66d-d4fbd402030f",
   "metadata": {
    "trusted": false
   },
   "outputs": [
    {
     "data": {
      "text/plain": [
       "[<td bgcolor=\"white\" class=\"detail\" width=\"40%\"><a class=\"notranslate\" href=\"/senate/Senator.asp?GA=98&amp;MemberID=1911\">Pamela J. Althoff</a></td>,\n",
       " <td align=\"center\" bgcolor=\"white\" class=\"detail\" width=\"15%\"><a href=\"SenatorBills.asp?GA=98&amp;MemberID=1911\">Bills</a></td>,\n",
       " <td align=\"center\" bgcolor=\"white\" class=\"detail\" width=\"15%\"><a href=\"SenCommittees.asp?GA=98&amp;MemberID=1911\">Committees</a></td>,\n",
       " <td align=\"center\" bgcolor=\"white\" class=\"detail\" width=\"15%\">32</td>,\n",
       " <td align=\"center\" bgcolor=\"white\" class=\"detail\" width=\"15%\">R</td>]"
      ]
     },
     "execution_count": 27,
     "metadata": {},
     "output_type": "execute_result"
    }
   ],
   "source": [
    "rows[2].select('td.detail') "
   ]
  },
  {
   "cell_type": "code",
   "execution_count": 28,
   "id": "add3c830-7599-4236-8f5e-71091de17dec",
   "metadata": {
    "trusted": false
   },
   "outputs": [
    {
     "name": "stdout",
     "output_type": "stream",
     "text": [
      "[] \n",
      "\n",
      "[<td bgcolor=\"EBEBEB\" class=\"detail\" width=\"40%\"><a class=\"notranslate\" href=\"/senate/Senator.asp?GA=98&amp;MemberID=2022\">Jennifer Bertino-Tarrant</a></td>, <td align=\"center\" bgcolor=\"EBEBEB\" class=\"detail\" width=\"15%\"><a href=\"SenatorBills.asp?GA=98&amp;MemberID=2022\">Bills</a></td>, <td align=\"center\" bgcolor=\"EBEBEB\" class=\"detail\" width=\"15%\"><a href=\"SenCommittees.asp?GA=98&amp;MemberID=2022\">Committees</a></td>, <td align=\"center\" bgcolor=\"EBEBEB\" class=\"detail\" width=\"15%\">49</td>, <td align=\"center\" bgcolor=\"EBEBEB\" class=\"detail\" width=\"15%\">D</td>] \n",
      "\n",
      "Checking rows...\n",
      "\n",
      "<tr><td bgcolor=\"white\" class=\"detail\" width=\"40%\"><a class=\"notranslate\" href=\"/senate/Senator.asp?GA=98&amp;MemberID=1911\">Pamela J. Althoff</a></td><td align=\"center\" bgcolor=\"white\" class=\"detail\" width=\"15%\"><a href=\"SenatorBills.asp?GA=98&amp;MemberID=1911\">Bills</a></td><td align=\"center\" bgcolor=\"white\" class=\"detail\" width=\"15%\"><a href=\"SenCommittees.asp?GA=98&amp;MemberID=1911\">Committees</a></td><td align=\"center\" bgcolor=\"white\" class=\"detail\" width=\"15%\">32</td><td align=\"center\" bgcolor=\"white\" class=\"detail\" width=\"15%\">R</td></tr> \n",
      "\n",
      "<tr><td bgcolor=\"white\" class=\"detail\" width=\"40%\"><a class=\"notranslate\" href=\"/senate/Senator.asp?GA=98&amp;MemberID=2035\">Patricia Van Pelt</a></td><td align=\"center\" bgcolor=\"white\" class=\"detail\" width=\"15%\"><a href=\"SenatorBills.asp?GA=98&amp;MemberID=2035\">Bills</a></td><td align=\"center\" bgcolor=\"white\" class=\"detail\" width=\"15%\"><a href=\"SenCommittees.asp?GA=98&amp;MemberID=2035\">Committees</a></td><td align=\"center\" bgcolor=\"white\" class=\"detail\" width=\"15%\">5</td><td align=\"center\" bgcolor=\"white\" class=\"detail\" width=\"15%\">D</td></tr>\n"
     ]
    }
   ],
   "source": [
    "#Bad row\n",
    "print(rows[-1].select('td.detail'), '\\n')\n",
    "\n",
    "#Good row\n",
    "print(rows[5].select('td.detail'), '\\n')\n",
    "\n",
    "#How about this?\n",
    "good_rows = [row for row in rows if row.select('td.detail')]\n",
    "\n",
    "print(\"Checking rows...\\n\")\n",
    "print(good_rows[0], '\\n')\n",
    "print(good_rows[-1])\n"
   ]
  },
  {
   "cell_type": "markdown",
   "id": "da02b31a-6c7d-4e90-b41b-cacfb03bfd1a",
   "metadata": {},
   "source": [
    "¡Parece que encontramos algo que funcionó!"
   ]
  },
  {
   "cell_type": "markdown",
   "id": "f4460494-4c99-4e74-b7b4-e91abfca140a",
   "metadata": {},
   "source": [
    "### **Recorriéndolo Todo**\n",
    "\n",
    "Ahora que hemos visto cómo obtener los datos que queremos de una fila y cómo filtrar las filas que no necesitamos, juntémoslo todo en un bucle.\n"
   ]
  },
  {
   "cell_type": "code",
   "execution_count": 29,
   "id": "bffdf1e0-29b6-4ff2-ba4d-cbf6b73109a9",
   "metadata": {
    "trusted": false
   },
   "outputs": [],
   "source": [
    "#Define storage list\n",
    "members = []\n",
    "\n",
    "#Get rid of junk rows\n",
    "valid_rows = [row for row in rows if row.select('td.detail')]\n",
    "\n",
    "#Loop through all rows\n",
    "for row in valid_rows:\n",
    "    # Select only those 'td' tags with class 'detail'\n",
    "    detail_cells = row.select('td.detail')\n",
    "    # Keep only the text in each of those cells\n",
    "    row_data = [cell.text for cell in detail_cells]\n",
    "    # Collect information\n",
    "    name = row_data[0]\n",
    "    district = int(row_data[3])\n",
    "    party = row_data[4]\n",
    "    # Store in a tuple\n",
    "    senator = (name, district, party)\n",
    "    # Append to list\n",
    "    members.append(senator)\n"
   ]
  },
  {
   "cell_type": "code",
   "execution_count": 30,
   "id": "9aff8c5b-8bc8-40b0-bbab-900dbb8e7095",
   "metadata": {
    "trusted": false
   },
   "outputs": [
    {
     "data": {
      "text/plain": [
       "61"
      ]
     },
     "execution_count": 30,
     "metadata": {},
     "output_type": "execute_result"
    }
   ],
   "source": [
    "#Should be 61\n",
    "len(members)\n"
   ]
  },
  {
   "cell_type": "markdown",
   "id": "df3122ed-a05e-4ccc-a1e5-0a4d349abebe",
   "metadata": {},
   "source": [
    "Echemos un vistazo a lo que tenemos en **_members_**."
   ]
  },
  {
   "cell_type": "code",
   "execution_count": 31,
   "id": "797ae565-d4dc-4fd7-bf71-703bb1e58000",
   "metadata": {
    "trusted": false
   },
   "outputs": [
    {
     "name": "stdout",
     "output_type": "stream",
     "text": [
      "[('Pamela J. Althoff', 32, 'R'), ('Jason A. Barickman', 53, 'R'), ('Scott M Bennett', 52, 'D'), ('Jennifer Bertino-Tarrant', 49, 'D'), ('Daniel Biss', 9, 'D')]\n"
     ]
    }
   ],
   "source": [
    "print(members[:5])"
   ]
  }
 ],
 "metadata": {
  "kernelspec": {
   "display_name": "base",
   "language": "python",
   "name": "python3"
  },
  "language_info": {
   "codemirror_mode": {
    "name": "ipython",
    "version": 3
   },
   "file_extension": ".py",
   "mimetype": "text/x-python",
   "name": "python",
   "nbconvert_exporter": "python",
   "pygments_lexer": "ipython3",
   "version": "3.12.7"
  }
 },
 "nbformat": 4,
 "nbformat_minor": 5
}
